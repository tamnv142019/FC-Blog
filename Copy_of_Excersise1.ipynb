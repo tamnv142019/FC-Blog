{
  "nbformat": 4,
  "nbformat_minor": 0,
  "metadata": {
    "colab": {
      "provenance": [],
      "authorship_tag": "ABX9TyPaW/2NZr9XqpRCLCqSPhKP",
      "include_colab_link": true
    },
    "kernelspec": {
      "name": "python3",
      "display_name": "Python 3"
    },
    "language_info": {
      "name": "python"
    }
  },
  "cells": [
    {
      "cell_type": "markdown",
      "metadata": {
        "id": "view-in-github",
        "colab_type": "text"
      },
      "source": [
        "<a href=\"https://colab.research.google.com/github/tamnv142019/FC-Blog/blob/main/Copy_of_Excersise1.ipynb\" target=\"_parent\"><img src=\"https://colab.research.google.com/assets/colab-badge.svg\" alt=\"Open In Colab\"/></a>"
      ]
    },
    {
      "cell_type": "code",
      "source": [
        "import pandas as pd\n",
        "import numpy as np\n",
        "from sklearn.model_selection import train_test_split\n",
        "from sklearn.preprocessing import MinMaxScaler, KBinsDiscretizer\n",
        "from sklearn.ensemble import RandomForestRegressor\n",
        "from sklearn.naive_bayes import GaussianNB\n",
        "from sklearn.metrics import accuracy_score, mean_squared_error"
      ],
      "metadata": {
        "id": "sY35UGF39SQX"
      },
      "execution_count": 20,
      "outputs": []
    },
    {
      "cell_type": "code",
      "source": [
        "# Load data\n",
        "data = pd.read_csv('DongNai.csv')\n",
        "data[\"DATE\"] = pd.to_datetime(data[\"DATE\"])\n",
        "data = data.set_index([\"DATE\"], drop=True)\n",
        "data.head()\n",
        "data = data.dropna()  # loại bỏ cột chứa NaN\n"
      ],
      "metadata": {
        "id": "GpuJdt93PoEs"
      },
      "execution_count": 26,
      "outputs": []
    },
    {
      "cell_type": "code",
      "source": [
        "# Normalize data\n",
        "scaler = MinMaxScaler()\n",
        "data = scaler.fit_transform(data)\n",
        "\n",
        "# Prepare data\n",
        "X = data[:-1]\n",
        "y = data[1:]\n",
        "\n",
        "# Split data\n",
        "X_train, X_test, y_train, y_test = train_test_split(X, y, test_size=0.2, random_state=1000)\n",
        "\n",
        "# Create models\n",
        "rf = RandomForestRegressor(n_estimators=100, random_state=42)\n",
        "gnb = GaussianNB()"
      ],
      "metadata": {
        "id": "SjoKxp-RPp3V"
      },
      "execution_count": 35,
      "outputs": []
    },
    {
      "cell_type": "code",
      "source": [
        "# Train and predict with RandomForest\n",
        "rf.fit(X_train, y_train.ravel())\n",
        "y_pred_rf = rf.predict(X_test)\n",
        "\n",
        "# Discretize the target into bins\n",
        "discretizer = KBinsDiscretizer(n_bins=10, encode='ordinal', strategy='uniform')\n",
        "y_train_bins = discretizer.fit_transform(y_train)\n",
        "y_test_bins = discretizer.transform(y_test)\n",
        "\n",
        "# Train and predict with GaussianNB\n",
        "gnb.fit(X_train, y_train_bins.ravel())\n",
        "y_pred_gnb = gnb.predict(X_test)\n",
        "\n",
        "# Evaluate\n",
        "print('RandomForestRegressor Mean Squared Error:', mean_squared_error(y_test, y_pred_rf))\n",
        "print('GaussianNB Accuracy:', accuracy_score(y_test_bins, y_pred_gnb))"
      ],
      "metadata": {
        "colab": {
          "base_uri": "https://localhost:8080/"
        },
        "id": "M0gp4EI2PsX0",
        "outputId": "762bc3d4-a1b8-459e-f28d-b066861c9a36"
      },
      "execution_count": 36,
      "outputs": [
        {
          "output_type": "stream",
          "name": "stdout",
          "text": [
            "RandomForestRegressor Mean Squared Error: 0.002762775935768477\n",
            "GaussianNB Accuracy: 0.6110183639398998\n"
          ]
        }
      ]
    }
  ]
}